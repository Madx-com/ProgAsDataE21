{
  "cells": [
    {
      "cell_type": "markdown",
      "source": [
        "Programmer som Data - Assignment 1\n",
        "\n",
        "PLC: 1.1, 1.2, 1.4, 2.1, 2.2, 2.3 (optionally also 2.6)."
      ],
      "metadata": {}
    },
    {
      "cell_type": "code",
      "execution_count": null,
      "source": [
        "// needed to run F# Lexer/Parser\r\n",
        "#r \"nuget:FsLexYacc,10.0.0\"\r\n",
        "\r\n",
        "open System\r\n",
        "#load \"Intro/intro2.fs\"\r\n",
        "open Intro2\r\n",
        "\r\n",
        "printfn \"%i\" e3v\r\n",
        "\r\n",
        "let x = 42"
      ],
      "outputs": [
        {
          "data": {
            "text/html": [
              "<div><div></div><div></div><div></div></div>"
            ]
          },
          "metadata": {},
          "output_type": "display_data"
        },
        {
          "output_type": "stream",
          "name": "stdout",
          "text": [
            "1002\r\n"
          ]
        }
      ],
      "metadata": {
        "dotnet_interactive": {
          "language": "fsharp"
        }
      }
    },
    {
      "cell_type": "markdown",
      "source": [
        "Exercise 1.1\r\n",
        "(i) Extend the eval function to handle three additional operators: max, min, ==.\r\n",
        "using the Prim absstract syntax taking 2 argument expressions.\r\n",
        "equals should return 1 when true and 0 when false."
      ],
      "metadata": {}
    },
    {
      "cell_type": "code",
      "execution_count": null,
      "source": [
        "let rec eval e (env : (string * int) list) : int =\r\n",
        "    match e with\r\n",
        "    | CstI i              -> i\r\n",
        "    | Var x               -> lookup env x \r\n",
        "    | Prim(\"+\", e1, e2)   -> eval e1 env + eval e2 env\r\n",
        "    | Prim(\"*\", e1, e2)   -> eval e1 env * eval e2 env\r\n",
        "    | Prim(\"-\", e1, e2)   -> eval e1 env - eval e2 env\r\n",
        "    | Prim(\"max\", e1, e2) -> \r\n",
        "        let r1 = eval e1 env\r\n",
        "        let r2 = eval e2 env\r\n",
        "        if r1 > r2 then r1 else r2\r\n",
        "    | Prim(\"min\", e1, e2) -> \r\n",
        "        let r1 = eval e1 env\r\n",
        "        let r2 = eval e2 env\r\n",
        "        if r1 < r2 then r1 else r2\r\n",
        "    | Prim(\"==\", e1, e2) -> \r\n",
        "        let r1 = eval e1 env\r\n",
        "        let r2 = eval e2 env\r\n",
        "        if r1 = r2 then 1 else 0\r\n",
        "    | Prim _            -> failwith \"unknown primitive\"\r\n",
        "\r\n"
      ],
      "outputs": [],
      "metadata": {
        "dotnet_interactive": {
          "language": "fsharp"
        }
      }
    },
    {
      "cell_type": "markdown",
      "source": [
        "(ii) Write some example expressions in this extended expression language, using abstract syntax, and evaluate them using your new eval function."
      ],
      "metadata": {}
    },
    {
      "cell_type": "code",
      "execution_count": null,
      "source": [
        "// setting up easier printing..\r\n",
        "let p q = printf \"%O\" q\r\n",
        "let e (op:string) w en = display( sprintf \"Evaluated using %s: %A\" op (eval w en))\r\n",
        "\r\n",
        "\r\n",
        "let e4 = Prim(\"min\", CstI 1, CstI 10)\r\n",
        "\r\n",
        "p e4\r\n",
        "e \"min\" e4 []\r\n",
        "\r\n",
        "let e5 = Prim(\"max\", CstI 1, CstI 10)\r\n",
        "\r\n",
        "p e5\r\n",
        "e \"max\" e5 []\r\n",
        "\r\n",
        "let e6 = Prim(\"==\", CstI 66, CstI 66)\r\n",
        "\r\n",
        "p e6\r\n",
        "e \"==\" e6 []\r\n",
        "\r\n",
        "let e7 = Prim(\"==\", CstI 66, CstI 22)\r\n",
        "\r\n",
        "p e7\r\n",
        "e \"==\" e7 []"
      ],
      "outputs": [
        {
          "output_type": "stream",
          "name": "stdout",
          "text": [
            "Prim (\"min\", CstI 1, CstI 10)"
          ]
        },
        {
          "data": {
            "text/plain": [
              "Evaluated using min: 1"
            ]
          },
          "metadata": {},
          "output_type": "display_data"
        },
        {
          "output_type": "stream",
          "name": "stdout",
          "text": [
            "Prim (\"max\", CstI 1, CstI 10)"
          ]
        },
        {
          "data": {
            "text/plain": [
              "Evaluated using max: 10"
            ]
          },
          "metadata": {},
          "output_type": "display_data"
        },
        {
          "output_type": "stream",
          "name": "stdout",
          "text": [
            "Prim (\"==\", CstI 66, CstI 66)"
          ]
        },
        {
          "data": {
            "text/plain": [
              "Evaluated using ==: 1"
            ]
          },
          "metadata": {},
          "output_type": "display_data"
        },
        {
          "output_type": "stream",
          "name": "stdout",
          "text": [
            "Prim (\"==\", CstI 66, CstI 22)"
          ]
        },
        {
          "data": {
            "text/plain": [
              "Evaluated using ==: 0"
            ]
          },
          "metadata": {},
          "output_type": "display_data"
        }
      ],
      "metadata": {
        "dotnet_interactive": {
          "language": "fsharp"
        }
      }
    },
    {
      "cell_type": "markdown",
      "source": [
        "(iii) Rewrite one of the eval functions to evaluate the arguments of a primitive before branching out on the operator in this style:\r\n",
        "\r\n",
        "    let rec eval e (env : (string * int) list) : int =\r\n",
        "        match e with\r\n",
        "        | ...\r\n",
        "        | Prim(ope, e1, e2) ->\r\n",
        "            let i1 = ...\r\n",
        "            let i2 = ...\r\n",
        "            match ope with\r\n",
        "            | \"+\" -> i1 + i2\r\n",
        "            | ..."
      ],
      "metadata": {}
    },
    {
      "cell_type": "code",
      "execution_count": null,
      "source": [
        "let rec eval e (env : (string * int) list) : int =\r\n",
        "    match e with\r\n",
        "    | CstI i              -> i\r\n",
        "    | Var x               -> lookup env x \r\n",
        "    | Prim(ope, e1, e2)   -> \r\n",
        "        let i1 = eval e1 env\r\n",
        "        let i2 = eval e2 env\r\n",
        "        match ope with\r\n",
        "        | \"+\"   -> i1 + i2\r\n",
        "        | \"-\"   -> i1 - i2\r\n",
        "        | \"*\"   -> i1 * i2\r\n",
        "        | \"max\" -> if i1 > i2 then i1 else i2\r\n",
        "        | \"min\" -> if i1 < i2 then i1 else i2\r\n",
        "        | \"==\"  -> if i1 = i2 then 1 else 0\r\n",
        "        | _     -> failwith \"unknown primitive\""
      ],
      "outputs": [],
      "metadata": {
        "dotnet_interactive": {
          "language": "fsharp"
        }
      }
    },
    {
      "cell_type": "markdown",
      "source": [
        "(iv) Extend the expression language with conditional expressions If(e1, e2, e3) corresponding to java's e1 ? e2 : e3 or F#'s if e1 then e2 else e3"
      ],
      "metadata": {}
    },
    {
      "cell_type": "code",
      "execution_count": null,
      "source": [
        "type expr = \r\n",
        "  | CstI of int\r\n",
        "  | Var of string\r\n",
        "  | Prim of string * expr * expr\r\n",
        "  | If of expr * expr * expr\r\n",
        "  // 2.1\r\n",
        "  | Let of (string * expr) list * expr"
      ],
      "outputs": [],
      "metadata": {
        "dotnet_interactive": {
          "language": "fsharp"
        }
      }
    },
    {
      "cell_type": "markdown",
      "source": [
        "(V) Extend the interpreter function eval correspondingly. It should evaluate e1, and if e1 is non-zero, then evaluate e2 else, evaluate e3.\r\n",
        "You should be able to evaluate the expression If(Var \"a\", CstI 11, CstI 22) in an enviroment that binds varible a. "
      ],
      "metadata": {
        "dotnet_interactive": {
          "language": "fsharp"
        }
      }
    },
    {
      "cell_type": "code",
      "execution_count": null,
      "source": [
        "let rec eval e (env : (string * int) list) : int =\r\n",
        "    match e with\r\n",
        "    | CstI i              -> i\r\n",
        "    | Var x               -> lookup env x \r\n",
        "    | Prim(ope, e1, e2)   -> \r\n",
        "        let i1 = eval e1 env\r\n",
        "        let i2 = eval e2 env\r\n",
        "        match ope with\r\n",
        "        | \"+\"   -> i1 + i2\r\n",
        "        | \"-\"   -> i1 - i2\r\n",
        "        | \"*\"   -> i1 * i2\r\n",
        "        | \"max\" -> if i1 > i2 then i1 else i2\r\n",
        "        | \"min\" -> if i1 < i2 then i1 else i2\r\n",
        "        | \"==\"  -> if i1 = i2 then 1 else 0\r\n",
        "        | _     -> failwith \"unknown primitive\"\r\n",
        "    | If(e1, e2, e3)    -> \r\n",
        "        let con = eval e1 env\r\n",
        "        if con > 0 then eval e2 env else eval e3 env\r\n",
        "    //2.1\r\n",
        "    //| Let(lhs,rhs) -> \r\n",
        "        //let (v1,v2) = lhs.Head\r\n",
        "        //let va = eval v2 env\r\n",
        "        //let env = (v1,va) :: env\r\n",
        "        //eval Let(lhs.Tail,rhs) env\r\n",
        "\r\n",
        "let e8 = If(Var \"a\" , CstI 11, CstI 22)\r\n",
        "\r\n",
        "p e8\r\n",
        "\r\n",
        "display( sprintf \"a is %i\" (lookup env \"a\"))\r\n",
        "\r\n",
        "display( sprintf \"The result is %A\" (eval e8 env))\r\n",
        "\r\n",
        "let list1 = [ (1,\"a\"); (2,\"b\"); (3,\"c\") ]\r\n",
        "\r\n",
        "// Properties\r\n",
        "//printfn \"list1.IsEmpty is %b\" (list1.IsEmpty)\r\n",
        "//printfn \"list1.Length is %d\" (list1.Length)\r\n",
        "//printfn \"list1.Head is %A\" (list1.Head)\r\n",
        "//printfn \"list1.Tail.Head is %A\" (list1.Tail.Head)\r\n",
        "//printfn \"list1.Tail.Tail.Head is %A\" (list1.Tail.Tail.Head)\r\n",
        "//printfn \"list1.Item(1) is %A\" (list1.Item(1).Item1)"
      ],
      "outputs": [
        {
          "output_type": "stream",
          "name": "stdout",
          "text": [
            "If (Var \"a\", CstI 11, CstI 22)"
          ]
        },
        {
          "data": {
            "text/plain": [
              "a is 3"
            ]
          },
          "metadata": {},
          "output_type": "display_data"
        },
        {
          "data": {
            "text/plain": [
              "The result is 11"
            ]
          },
          "metadata": {},
          "output_type": "display_data"
        },
        {
          "output_type": "stream",
          "name": "stdout",
          "text": [
            "list1.IsEmpty is false\r\n",
            "list1.Length is 3\r\n",
            "list1.Head is (1, \"a\")\r\n",
            "list1.Tail.Head is (2, \"b\")\r\n",
            "list1.Tail.Tail.Head is (3, \"c\")\r\n",
            "list1.Item(1) is 2\r\n"
          ]
        }
      ],
      "metadata": {
        "dotnet_interactive": {
          "language": "fsharp"
        }
      }
    },
    {
      "cell_type": "markdown",
      "source": [
        "Exercise: 1.2\r\n",
        "(i) Declare analternative datatype ''aexpr'' for a representaion of arithmetic expressions without let-bindings.\r\n",
        "The datatype should have constructors: CstI, Var, Add, Mul, Sub, for constants, variables, addition, multiplication, and subtraction.\r\n",
        "Then \"x * (y + 3)\" is represented as Mul(Var \"x\", Add(Var \"y\", CstI 3)), not  as Prim(\"*\", Var \"x\", Prim(\"+\", Var \"y\", CstI 3))."
      ],
      "metadata": {
        "dotnet_interactive": {
          "language": "fsharp"
        }
      }
    },
    {
      "cell_type": "code",
      "execution_count": null,
      "source": [
        "type aexpr =\r\n",
        "| CstI of int\r\n",
        "| Var of string\r\n",
        "| Add of aexpr * aexpr\r\n",
        "| Mul of aexpr * aexpr\r\n",
        "| Sub of aexpr * aexpr\r\n"
      ],
      "outputs": [],
      "metadata": {
        "dotnet_interactive": {
          "language": "fsharp"
        }
      }
    },
    {
      "cell_type": "markdown",
      "source": [
        "(ii) Write the representation of the expressions. \"v - (w + z)\" and \"2 * (v - (w +z))\" and \"x + y + z + v\".\r\n",
        "\r\n",
        "    Sub(Var \"v\", Add(Var \"w\", Var \"z\")),  Mul(CstI 2, Sub(Var \"v\", Add(Var \"w\", Var \"z\"))) \r\n",
        "    and Add(Add(Add(Var \"x\", Var \"y\"), Var \"z\"),Var \"v\")."
      ],
      "metadata": {
        "dotnet_interactive": {
          "language": "fsharp"
        }
      }
    },
    {
      "cell_type": "markdown",
      "source": [
        "(iii) Write an F# function fmt : aexpr -> string to format expressions as strings.\r\n",
        "For instance, it may format Sub(Var \"x\", CstI 34) as the string (x-34). it has very much the same structure as the eval function but takes no enviroment argument (because the name of a varible is independent of its value)."
      ],
      "metadata": {
        "dotnet_interactive": {
          "language": "fsharp"
        }
      }
    },
    {
      "cell_type": "code",
      "execution_count": null,
      "source": [
        "let rec fmt ax : string = \r\n",
        "    match ax with\r\n",
        "    | CstI i -> string i\r\n",
        "    | Var x -> x\r\n",
        "    | Mul(x1,x2) -> \"(\" + string (fmt x1) + \"*\" + string (fmt x2) + \")\"\r\n",
        "    | Add(x1,x2) -> \"(\" + string (fmt x1) + \"+\" + string (fmt x2) + \")\"\r\n",
        "    | Sub(x1,x2) -> \"(\" + string (fmt x1) + \"-\" + string (fmt x2) + \")\"\r\n",
        "    //| _ -> \"unknown type\"\r\n",
        "\r\n",
        "let t = Sub(Var \"v\", Add(Var \"w\", Var \"z\"))\r\n",
        "let te = fmt t\r\n",
        "//printf \"%s\" te\r\n",
        "display( sprintf \"The formatted string of %O is %A\" (t) (te))\r\n",
        "\r\n",
        "let t1 = Mul(CstI 2, Sub(Var \"v\", Add(Var \"w\", Var \"z\")))\r\n",
        "let t1e = fmt t1\r\n",
        "//printf \"%s\" t1e\r\n",
        "display( sprintf \"The formatted string of %O is %A\" (t1) (t1e))\r\n",
        "\r\n",
        "let t2 = Add(Add(Add(Var \"x\", Var \"y\"), Var \"z\"),Var \"v\")\r\n",
        "let t2e = fmt t2\r\n",
        "//printf \"%s\" t2e\r\n",
        "display( sprintf \"The formatted string of %O is %A\" (t2) (t2e))\r\n",
        "\r\n",
        "let t3 = Sub(Var \"x\", CstI 34) \r\n",
        "let t3e = fmt t3\r\n",
        "//printf \"%s\" t4e\r\n",
        "display( sprintf \"The formatted string of %O is %A\" (t3) (t3e))"
      ],
      "outputs": [
        {
          "data": {
            "text/plain": [
              "The formatted string of Sub (Var \"v\", Add (Var \"w\", Var \"z\")) is \"(v-(w+z))\""
            ]
          },
          "metadata": {},
          "output_type": "display_data"
        },
        {
          "data": {
            "text/plain": [
              "The formatted string of Mul (CstI 2, Sub (Var \"v\", Add (Var \"w\", Var \"z\"))) is \"(2*(v-(w+z)))\""
            ]
          },
          "metadata": {},
          "output_type": "display_data"
        },
        {
          "data": {
            "text/plain": [
              "The formatted string of Add (Add (Add (Var \"x\", Var \"y\"), Var \"z\"), Var \"v\") is \"(((x+y)+z)+v)\""
            ]
          },
          "metadata": {},
          "output_type": "display_data"
        },
        {
          "data": {
            "text/plain": [
              "The formatted string of Sub (Var \"x\", CstI 34) is \"(x-34)\""
            ]
          },
          "metadata": {},
          "output_type": "display_data"
        }
      ],
      "metadata": {
        "dotnet_interactive": {
          "language": "fsharp"
        }
      }
    },
    {
      "cell_type": "markdown",
      "source": [
        "(iv) Write an F# function simplify : aexpr -> aexpr to perform expression simplification. For instance, it should simplify (x+0) to x and (1+0) to 1. The more ambitius student might want to simplify (1+0)*(x+0) to x.\r\n",
        "Hint: Pattern matching is your friend. Don't forget the case where you cannot simplify anything.\r\n",
        "\r\n",
        "see. p. 10 in PLC for more."
      ],
      "metadata": {
        "dotnet_interactive": {
          "language": "fsharp"
        }
      }
    },
    {
      "cell_type": "code",
      "execution_count": null,
      "source": [
        "let rec simplify ax : aexpr =\r\n",
        "    match ax with\r\n",
        "    |Add(x1,x2) -> \r\n",
        "        if x1= CstI 0 || x2= CstI 0 then \r\n",
        "            if x1= CstI 0 then simplify x2 else simplify x1 \r\n",
        "        else Add(simplify x1, simplify x2)\r\n",
        "    |Sub(x1,x2) -> \r\n",
        "        if x1 = x2 || x2 = CstI 0 then \r\n",
        "            if x2 = CstI 0 then simplify x1 else CstI 0\r\n",
        "        else Sub(simplify x1, simplify x2)\r\n",
        "    |Mul(x1,x2) ->\r\n",
        "        if x1 = CstI 1 || x2 = CstI 1 then \r\n",
        "            if x1 = CstI 1 then simplify x2 else simplify x1\r\n",
        "        else \r\n",
        "            if x1 = CstI 0 || x2 = CstI 0 then CstI 0 else Mul(simplify x1, simplify x2)\r\n",
        "    |_ -> ax\r\n",
        "\r\n",
        "// e + 0 -> e\r\n",
        "let t5 = Add(CstI 0, CstI 1)\r\n",
        "let t5s = simplify t5\r\n",
        "//printf \"%A\" t5s\r\n",
        "display( sprintf \"The simplyfied string of %O is %A\" (t5) (t5s))\r\n",
        "\r\n",
        "// 0 + e -> e\r\n",
        "let t6 = Add(CstI 1, CstI 0)\r\n",
        "let t6s = simplify t6\r\n",
        "//printf \"%A\" t6s\r\n",
        "display( sprintf \"The simplyfied string of %O is %A\" (t6) (t6s))\r\n",
        "\r\n",
        "// Should not change\r\n",
        "let t1s = simplify t1\r\n",
        "//printf \"%A\" t1s\r\n",
        "display( sprintf \"The simplyfied string of %O is %A\" (t1) (t1s))\r\n",
        "\r\n",
        "// e - 0 -> e\r\n",
        "let t7 = Sub(CstI 1, CstI 0)\r\n",
        "let t7s = simplify t7\r\n",
        "//printf \"%A\" t7s\r\n",
        "display( sprintf \"The simplyfied string of %O is %A\" (t7) (t7s))\r\n",
        "\r\n",
        "// e - e -> 0\r\n",
        "let t8 = Sub(CstI 5, CstI 5)\r\n",
        "let t8s = simplify t8\r\n",
        "//printf \"%A\" t8s\r\n",
        "display( sprintf \"The simplyfied string of %O is %A\" (t8) (t8s))\r\n",
        "\r\n",
        "// 1 * e -> e\r\n",
        "let t9 = Mul(CstI 1, CstI 42)\r\n",
        "let t9s = simplify t9\r\n",
        "//printf \"%A\" t9s\r\n",
        "display( sprintf \"The simplyfied string of %O is %A\" (t9) (t9s))\r\n",
        "\r\n",
        "// e * 1 -> e\r\n",
        "let t10 = Mul(CstI 42, CstI 1)\r\n",
        "let t10s = simplify t10\r\n",
        "//printf \"%A\" t10s\r\n",
        "display( sprintf \"The simplyfied string of %O is %A\" (t10) (t10s))\r\n",
        "\r\n",
        "// Since negatives is not handled in the simplify function it will reduce to (0-1) + 1 AND not 0\r\n",
        "let t11 = Mul(Add(Sub(CstI 0, CstI 1), Add(CstI 0, CstI 1)), CstI 1)\r\n",
        "let t11f = fmt t11\r\n",
        "//printf \"%A\" t11f\r\n",
        "display( sprintf \"The formatted string of %O is %A\" (t11) (t11f))\r\n",
        "\r\n",
        "let t11s = simplify t11\r\n",
        "//printf \"%A\" t11s\r\n",
        "display( sprintf \"The simplyfied string of %O is %A\" (t11) (t11s))\r\n",
        "\r\n",
        "let t11sf = fmt t11s\r\n",
        "//printf \"%A\" t11sf\r\n",
        "display( sprintf \"The formatted string of %O is %A\" (t11s) (t11sf))\r\n",
        "\r\n",
        "//added fo 1.3 not needed.\r\n",
        "let t12 = Mul(Sub(Var \"a\",Var \"b\"),Var \"c\")\r\n",
        "let t12f = fmt t12\r\n",
        "//display( sprintf \"The simplyfied string of %O is %A\" (t12) (t12f))"
      ],
      "outputs": [
        {
          "data": {
            "text/plain": [
              "The simplyfied string of Add (CstI 0, CstI 1) is CstI 1"
            ]
          },
          "metadata": {},
          "output_type": "display_data"
        },
        {
          "data": {
            "text/plain": [
              "The simplyfied string of Add (CstI 1, CstI 0) is CstI 1"
            ]
          },
          "metadata": {},
          "output_type": "display_data"
        },
        {
          "data": {
            "text/plain": [
              "The simplyfied string of Mul (CstI 2, Sub (Var \"v\", Add (Var \"w\", Var \"z\"))) is Mul (CstI 2, Sub (Var \"v\", Add (Var \"w\", Var \"z\")))"
            ]
          },
          "metadata": {},
          "output_type": "display_data"
        },
        {
          "data": {
            "text/plain": [
              "The simplyfied string of Sub (CstI 1, CstI 0) is CstI 1"
            ]
          },
          "metadata": {},
          "output_type": "display_data"
        },
        {
          "data": {
            "text/plain": [
              "The simplyfied string of Sub (CstI 5, CstI 5) is CstI 0"
            ]
          },
          "metadata": {},
          "output_type": "display_data"
        },
        {
          "data": {
            "text/plain": [
              "The simplyfied string of Mul (CstI 1, CstI 42) is CstI 42"
            ]
          },
          "metadata": {},
          "output_type": "display_data"
        },
        {
          "data": {
            "text/plain": [
              "The simplyfied string of Mul (CstI 42, CstI 1) is CstI 42"
            ]
          },
          "metadata": {},
          "output_type": "display_data"
        },
        {
          "data": {
            "text/plain": [
              "The formatted string of Mul (Add (Sub (CstI 0, CstI 1), Add (CstI 0, CstI 1)), CstI 1) is \"(((0-1)+(0+1))*1)\""
            ]
          },
          "metadata": {},
          "output_type": "display_data"
        },
        {
          "data": {
            "text/plain": [
              "The simplyfied string of Mul (Add (Sub (CstI 0, CstI 1), Add (CstI 0, CstI 1)), CstI 1) is Add (Sub (CstI 0, CstI 1), CstI 1)"
            ]
          },
          "metadata": {},
          "output_type": "display_data"
        },
        {
          "data": {
            "text/plain": [
              "The formatted string of Add (Sub (CstI 0, CstI 1), CstI 1) is \"((0-1)+1)\""
            ]
          },
          "metadata": {},
          "output_type": "display_data"
        }
      ],
      "metadata": {
        "dotnet_interactive": {
          "language": "fsharp"
        }
      }
    },
    {
      "cell_type": "code",
      "execution_count": null,
      "source": [
        "let t13 = Let([(\"x1\", Prim(\"+\", CstI 5, CstI 7)); (\"x2\", Prim(\"*\", Var \"x1\",CstI 2))], Prim(\"+\", Var \"x1\", Var \"x2\"))\r\n",
        "let t13e = eval t13 env"
      ],
      "outputs": [
        {
          "output_type": "error",
          "ename": "Error",
          "evalue": "Microsoft.FSharp.Core.MatchFailureException: The match cases were incomplete\r\n   at FSI_0128.eval(expr e, FSharpList`1 env)\r\n   at <StartupCode$FSI_0129>.$FSI_0129.main@()",
          "traceback": [
            "Microsoft.FSharp.Core.MatchFailureException: The match cases were incomplete\r\n",
            "   at FSI_0128.eval(expr e, FSharpList`1 env)\r\n",
            "   at <StartupCode$FSI_0129>.$FSI_0129.main@()"
          ]
        }
      ],
      "metadata": {
        "dotnet_interactive": {
          "language": "fsharp"
        }
      }
    }
  ],
  "metadata": {
    "kernelspec": {
      "display_name": ".NET (C#)",
      "language": "C#",
      "name": ".net-csharp"
    },
    "language_info": {
      "file_extension": ".cs",
      "mimetype": "text/x-csharp",
      "name": "C#",
      "pygments_lexer": "csharp",
      "version": "8.0"
    }
  },
  "nbformat": 4,
  "nbformat_minor": 4
}